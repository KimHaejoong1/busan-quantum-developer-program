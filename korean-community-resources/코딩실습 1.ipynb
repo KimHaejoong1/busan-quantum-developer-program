{
 "cells": [
  {
   "cell_type": "markdown",
   "id": "3b5b035f-d6ec-4ac9-9c76-9d0c77423406",
   "metadata": {},
   "source": [
    "# Qiskit 개발자 자격 시험 연습용 노트북\n",
    "\n",
    "개발자 자격증 시험은, 사실 여러분의 양자 정보 이론에 대한 `지식`을 확인하는 시험은 아닙니다. 양자 회로를 작성하는 기술과, 그에 필요한 아주 간단한 양자 정보학적인 지식을 검증하는 시험일 뿐입니다.\n",
    "\n",
    "따라서, 지금부터 진행될 총 다섯번의 코딩 실습 시간에는 여러분의 손에, Qiskit 구문이 익숙해 지도록, 최대한, 여러분께서 직접 코딩을 해보시도록 시간을 드리려 합니다. \n",
    "\n",
    "이번 강의는 2025년 Qiskit Global Summer School에서 기본적인 Qiskit 코딩을 익혔다는 가정하에, 그리고 파이썬 코딩의 기본 문법들이 손에 익숙해 졌다는 가정하에 진행 됩니다. 하지만! 혹시 수료를 위해 너무 바쁘게 인증을 마친 분들이 계실 수 있으니 첫번째 섹션에서 아주 기본적인 내용들을 다시 한 번 점검한 후 넘어가 보도록 합시다.\n",
    "\n",
    "우선 여러분이 적절한 환경에서 실습 중인지 버젼을 한 번 확인해 봅시다."
   ]
  },
  {
   "cell_type": "code",
   "execution_count": 1,
   "id": "7b4f180b-d943-4617-a919-e3d41168cb2a",
   "metadata": {},
   "outputs": [
    {
     "name": "stdout",
     "output_type": "stream",
     "text": [
      "Qiskit version: 2.1.0\n",
      "Runtime version: 0.40.1\n"
     ]
    }
   ],
   "source": [
    "import qiskit\n",
    "import qiskit_ibm_runtime\n",
    "print(f\"Qiskit version: {qiskit.__version__}\")\n",
    "print(f\"Runtime version: {qiskit_ibm_runtime.__version__}\")"
   ]
  },
  {
   "cell_type": "code",
   "execution_count": 2,
   "id": "ee93f339-7d26-4ccf-98ec-16cc16f43ff6",
   "metadata": {},
   "outputs": [],
   "source": [
    "import numpy as np\n",
    "from math import sqrt, pi\n",
    "from qiskit.visualization.array import array_to_latex"
   ]
  },
  {
   "cell_type": "markdown",
   "id": "e6a7b637-8556-40e0-b846-be664a9b83a9",
   "metadata": {},
   "source": [
    "## 0교시: \b기본기 톧아보기 - 유용한 파이썬 기본 구문을 다시 한번 살펴보기\n",
    "\n",
    "\n",
    "1. list를 만드는 유용한 방법\n",
    "\n",
    "이름이 a인 다음의 리스트를 만들어 보세요: [2,3,4,5,6]"
   ]
  },
  {
   "cell_type": "code",
   "execution_count": 3,
   "id": "57a76f17-b390-4f1f-9bab-c28c6a312481",
   "metadata": {},
   "outputs": [
    {
     "data": {
      "text/plain": [
       "[2, 3, 4, 5, 6]"
      ]
     },
     "execution_count": 3,
     "metadata": {},
     "output_type": "execute_result"
    }
   ],
   "source": [
    "# define with value\n",
    "a = [2,3,4,5,6]\n",
    "a\n"
   ]
  },
  {
   "cell_type": "code",
   "execution_count": 6,
   "id": "41999c0e-6391-42ba-9b94-41a4221c45f3",
   "metadata": {},
   "outputs": [
    {
     "data": {
      "text/plain": [
       "[2, 3, 4, 5, 6]"
      ]
     },
     "execution_count": 6,
     "metadata": {},
     "output_type": "execute_result"
    }
   ],
   "source": [
    "# use range()\n",
    "a = [i for i in range(2,7)]\n",
    "a"
   ]
  },
  {
   "cell_type": "code",
   "execution_count": 8,
   "id": "88a5365c-4279-47a2-b550-f2772a7ba17f",
   "metadata": {},
   "outputs": [
    {
     "data": {
      "text/plain": [
       "[2, 3, 4, 5, 6]"
      ]
     },
     "execution_count": 8,
     "metadata": {},
     "output_type": "execute_result"
    }
   ],
   "source": [
    "# use append() and for loop\n",
    "a = []\n",
    "for i in range(2,7):\n",
    "    a.append(i)\n",
    "\n",
    "a\n"
   ]
  },
  {
   "cell_type": "markdown",
   "id": "37167bba-0a13-4fc9-acb9-7ae67293fb3f",
   "metadata": {},
   "source": [
    "2. Dictionary 를 다뤄보기\n",
    "\n",
    "a 라는 이름의 다음의 key 와 value를 갖는 dictionary를 만들어 보세요 \n",
    "\n",
    "| key | value | \n",
    "| --- | --- |\n",
    "| '00' | 10 |\n",
    "| '11' | 1014 |"
   ]
  },
  {
   "cell_type": "code",
   "execution_count": 10,
   "id": "81c19094-0033-4263-b880-ebb334ac26e2",
   "metadata": {},
   "outputs": [
    {
     "data": {
      "text/plain": [
       "{'00': 10, '11': 1014}"
      ]
     },
     "execution_count": 10,
     "metadata": {},
     "output_type": "execute_result"
    }
   ],
   "source": [
    "#define\n",
    "a = { \n",
    "    #your code here # \n",
    "    '00': 10,\n",
    "    '11': 1014\n",
    "}\n",
    "a"
   ]
  },
  {
   "cell_type": "code",
   "execution_count": 11,
   "id": "0656b47a-ec66-45d4-a929-fc7b7dc3362e",
   "metadata": {},
   "outputs": [
    {
     "data": {
      "text/plain": [
       "{'00': 10, '11': 1014}"
      ]
     },
     "execution_count": 11,
     "metadata": {},
     "output_type": "execute_result"
    }
   ],
   "source": [
    "#add key and value\n",
    "a = {}\n",
    "\n",
    "#your code here\n",
    "a['00'] = 10\n",
    "a['11'] = 1014\n",
    "a"
   ]
  },
  {
   "cell_type": "markdown",
   "id": "413ef0ae-7ffb-45a8-ab84-e4155a5c9145",
   "metadata": {},
   "source": [
    "만들어진 dictionary의 '00' key의 값을 가져와 봅시다."
   ]
  },
  {
   "cell_type": "code",
   "execution_count": 12,
   "id": "11ecd118-3fe2-4d5f-ad9a-3a8b526994f2",
   "metadata": {},
   "outputs": [
    {
     "data": {
      "text/plain": [
       "10"
      ]
     },
     "execution_count": 12,
     "metadata": {},
     "output_type": "execute_result"
    }
   ],
   "source": [
    "#your code\n",
    "a['00']"
   ]
  },
  {
   "cell_type": "markdown",
   "id": "224129d7-9232-4528-bd58-59e2074c6d36",
   "metadata": {},
   "source": [
    "만들어진 dictionary의 key 값만을 출력해 봅시다. 또한 value 값만을 출력해 봅시다."
   ]
  },
  {
   "cell_type": "code",
   "execution_count": 14,
   "id": "9c245888-8928-48bd-b349-9d76ce256ff4",
   "metadata": {},
   "outputs": [
    {
     "data": {
      "text/plain": [
       "dict_values([10, 1014])"
      ]
     },
     "execution_count": 14,
     "metadata": {},
     "output_type": "execute_result"
    }
   ],
   "source": [
    "#your code\n",
    "# a.keys()\n",
    "a.values()"
   ]
  },
  {
   "cell_type": "markdown",
   "id": "cc78d11f-2aef-4f95-a57b-9a08a4fa009f",
   "metadata": {},
   "source": [
    "Dictionary 에 '01' 인 키가 있는지 없는지 확인해 봅시다.\n"
   ]
  },
  {
   "cell_type": "code",
   "execution_count": 15,
   "id": "72d25b64-11e0-4018-a576-1df921fb37f7",
   "metadata": {},
   "outputs": [
    {
     "data": {
      "text/plain": [
       "False"
      ]
     },
     "execution_count": 15,
     "metadata": {},
     "output_type": "execute_result"
    }
   ],
   "source": [
    "#your code\n",
    "'01' in a"
   ]
  },
  {
   "cell_type": "markdown",
   "id": "90e73903-5aec-44bf-8f65-03ae3a203f58",
   "metadata": {},
   "source": [
    "Dictionary에 '11'인 키가 있는지 없는지 확인해 봅시다."
   ]
  },
  {
   "cell_type": "code",
   "execution_count": 16,
   "id": "71bfc071-e789-4c54-9a60-92f06ce7182f",
   "metadata": {},
   "outputs": [
    {
     "data": {
      "text/plain": [
       "True"
      ]
     },
     "execution_count": 16,
     "metadata": {},
     "output_type": "execute_result"
    }
   ],
   "source": [
    "#your code\n",
    "'11' in a"
   ]
  },
  {
   "cell_type": "markdown",
   "id": "9b497820-2798-4c89-b24d-c132c1c55e21",
   "metadata": {},
   "source": [
    "3. 행렬을 만들고 다루기\n",
    "\n",
    "임의의 Bra, Ket 행렬 만들어 보기\n",
    "\n",
    "$$a = \\begin{bmatrix} 0 & 1 \\end{bmatrix}, b = \\begin{bmatrix} 0 \\\\1 \\end{bmatrix}$$\n",
    "를 만들어 봅시다."
   ]
  },
  {
   "cell_type": "code",
   "execution_count": 19,
   "id": "6b071524-7adf-47ff-a311-51d2af8376a3",
   "metadata": {},
   "outputs": [
    {
     "name": "stdout",
     "output_type": "stream",
     "text": [
      "Bra a:\n",
      " [[0 1]]\n",
      "Ket b:\n",
      " [[0]\n",
      " [1]]\n"
     ]
    }
   ],
   "source": [
    "#your code here\n",
    "a = np.array([[0,1]])\n",
    "b = np.array([[0],\n",
    "     [1]])\n",
    "print(\"Bra a:\\n\", a)\n",
    "print(\"Ket b:\\n\", b)"
   ]
  },
  {
   "cell_type": "markdown",
   "id": "d44b0a62-2a9e-4107-9a1e-b321d6ee0a71",
   "metadata": {},
   "source": [
    "numpy를 이용하여 R이란 이름의 2x2 랜덤 행렬을 만들고 각각의 row값과 column 값을 list 로 저장해 봅시다."
   ]
  },
  {
   "cell_type": "code",
   "execution_count": 20,
   "id": "00389485-7fbc-466d-92e1-f5b9709c6446",
   "metadata": {},
   "outputs": [
    {
     "data": {
      "text/latex": [
       "$$\n",
       "\n",
       "\\begin{bmatrix}\n",
       "0.7534411847 & 0.2263373846  \\\\\n",
       " 0.3682237457 & 0.3979994646  \\\\\n",
       " \\end{bmatrix}\n",
       "$$"
      ],
      "text/plain": [
       "<IPython.core.display.Latex object>"
      ]
     },
     "execution_count": 20,
     "metadata": {},
     "output_type": "execute_result"
    }
   ],
   "source": [
    "#your code here\n",
    "\n",
    "R = np.random.rand(2, 2)\n",
    "\n",
    "array_to_latex(R)"
   ]
  },
  {
   "cell_type": "code",
   "execution_count": 21,
   "id": "c85fd235-0b27-4d72-b97c-ba9a65d78f1c",
   "metadata": {},
   "outputs": [
    {
     "data": {
      "text/latex": [
       "$$\n",
       "\n",
       "\\begin{bmatrix}\n",
       "0.7534411847 & 0.2263373846  \\\\\n",
       " \\end{bmatrix}\n",
       "$$"
      ],
      "text/plain": [
       "<IPython.core.display.Latex object>"
      ]
     },
     "execution_count": 21,
     "metadata": {},
     "output_type": "execute_result"
    }
   ],
   "source": [
    "R_row0 = R[0]\n",
    "array_to_latex(R_row0)"
   ]
  },
  {
   "cell_type": "code",
   "execution_count": 22,
   "id": "5110bbee-4e83-4614-b95e-1419a78d120a",
   "metadata": {},
   "outputs": [
    {
     "data": {
      "text/latex": [
       "$$\n",
       "\n",
       "\\begin{bmatrix}\n",
       "0.3682237457 & 0.3979994646  \\\\\n",
       " \\end{bmatrix}\n",
       "$$"
      ],
      "text/plain": [
       "<IPython.core.display.Latex object>"
      ]
     },
     "execution_count": 22,
     "metadata": {},
     "output_type": "execute_result"
    }
   ],
   "source": [
    "R_row1 = R[1]\n",
    "array_to_latex(R_row1)"
   ]
  },
  {
   "cell_type": "code",
   "execution_count": 25,
   "id": "82f31818-9a58-4ab1-9c07-ea830d46f085",
   "metadata": {},
   "outputs": [
    {
     "data": {
      "text/latex": [
       "$$\n",
       "\n",
       "\\begin{bmatrix}\n",
       "0.7534411847  \\\\\n",
       " 0.3682237457  \\\\\n",
       " \\end{bmatrix}\n",
       "$$"
      ],
      "text/plain": [
       "<IPython.core.display.Latex object>"
      ]
     },
     "execution_count": 25,
     "metadata": {},
     "output_type": "execute_result"
    }
   ],
   "source": [
    "R_col0 = R[:,0].reshape(2,1)\n",
    "array_to_latex(R_col0)"
   ]
  },
  {
   "cell_type": "code",
   "execution_count": 28,
   "id": "ea8aea65-f688-4c01-9070-84b88c3886d2",
   "metadata": {},
   "outputs": [
    {
     "data": {
      "text/latex": [
       "$$\n",
       "\n",
       "\\begin{bmatrix}\n",
       "0.2263373846  \\\\\n",
       " 0.3979994646  \\\\\n",
       " \\end{bmatrix}\n",
       "$$"
      ],
      "text/plain": [
       "<IPython.core.display.Latex object>"
      ]
     },
     "execution_count": 28,
     "metadata": {},
     "output_type": "execute_result"
    }
   ],
   "source": [
    "R_col1 = R[:,1].reshape(2,1)\n",
    "array_to_latex(R_col1)"
   ]
  },
  {
   "cell_type": "markdown",
   "id": "c46ba2d5-c39b-4bab-ac44-0a8d54084308",
   "metadata": {},
   "source": [
    "4. 간단한 함수를 만들어 봅시다\n",
    "\n",
    "2x2 행렬을 입력으로 받아서 각각의 row와 column을 반환하는 함수를 만들어 봅시다."
   ]
  },
  {
   "cell_type": "code",
   "execution_count": 29,
   "id": "17c34191-b716-4dc6-b1e6-b5cff7e1319e",
   "metadata": {},
   "outputs": [],
   "source": [
    "def slice_matrix( Input ):\n",
    "    row0 = Input[0] # your code\n",
    "    row1 = Input[1] # your code\n",
    "    col0 = Input[:,0].reshape(2,1) # your code\n",
    "    col1 = Input[:,1].reshape(2,1) # your code\n",
    "    return row0, row1, col0, col1"
   ]
  },
  {
   "cell_type": "markdown",
   "id": "bc4a2a2d-0b57-4b31-95f9-d6b04e6e6f08",
   "metadata": {},
   "source": [
    "함수가 잘 만들어 졌는지 아래의 셀을 실행해 확인해 봅시다."
   ]
  },
  {
   "cell_type": "code",
   "execution_count": 30,
   "id": "5735891d-dba7-4410-9a44-81d1a93aa679",
   "metadata": {},
   "outputs": [
    {
     "data": {
      "text/latex": [
       "$$\n",
       "\n",
       "\\begin{bmatrix}\n",
       "0.7534411847 & 0.2263373846  \\\\\n",
       " \\end{bmatrix}\n",
       "$$"
      ],
      "text/plain": [
       "<IPython.core.display.Latex object>"
      ]
     },
     "metadata": {},
     "output_type": "display_data"
    },
    {
     "data": {
      "text/latex": [
       "$$\n",
       "\n",
       "\\begin{bmatrix}\n",
       "0.3682237457 & 0.3979994646  \\\\\n",
       " \\end{bmatrix}\n",
       "$$"
      ],
      "text/plain": [
       "<IPython.core.display.Latex object>"
      ]
     },
     "metadata": {},
     "output_type": "display_data"
    },
    {
     "data": {
      "text/latex": [
       "$$\n",
       "\n",
       "\\begin{bmatrix}\n",
       "0.7534411847  \\\\\n",
       " 0.3682237457  \\\\\n",
       " \\end{bmatrix}\n",
       "$$"
      ],
      "text/plain": [
       "<IPython.core.display.Latex object>"
      ]
     },
     "metadata": {},
     "output_type": "display_data"
    },
    {
     "data": {
      "text/latex": [
       "$$\n",
       "\n",
       "\\begin{bmatrix}\n",
       "0.2263373846  \\\\\n",
       " 0.3979994646  \\\\\n",
       " \\end{bmatrix}\n",
       "$$"
      ],
      "text/plain": [
       "<IPython.core.display.Latex object>"
      ]
     },
     "metadata": {},
     "output_type": "display_data"
    }
   ],
   "source": [
    "result = slice_matrix(R)\n",
    "for a in result:\n",
    "    display(array_to_latex(a))"
   ]
  },
  {
   "cell_type": "markdown",
   "id": "4fbc03c9-d7f1-4a7d-b03b-7c207d0446fe",
   "metadata": {},
   "source": [
    "위에서 만들어진 리스트들을 사용하여, 행렬간의 덧셈, 뺄셈, 상수 곱셈, 내적을 해봅시다."
   ]
  },
  {
   "cell_type": "code",
   "execution_count": 33,
   "id": "8132ae71-702d-4385-af2c-210f124acdcc",
   "metadata": {},
   "outputs": [
    {
     "data": {
      "text/latex": [
       "$$\n",
       "\n",
       "\\begin{bmatrix}\n",
       "1.1216649303 & 0.6243368493  \\\\\n",
       " \\end{bmatrix}\n",
       "$$"
      ],
      "text/plain": [
       "<IPython.core.display.Latex object>"
      ]
     },
     "execution_count": 33,
     "metadata": {},
     "output_type": "execute_result"
    }
   ],
   "source": [
    "#row0과 row1을 더 해봅시다.\n",
    "row0, row1, col0, col1 = slice_matrix(R)\n",
    "array_to_latex(row0+row1)"
   ]
  },
  {
   "cell_type": "code",
   "execution_count": 39,
   "id": "a3a44ff1-d7e9-4eb8-8fce-e4b90f013e91",
   "metadata": {},
   "outputs": [
    {
     "data": {
      "text/plain": [
       "IPython.core.display.Latex"
      ]
     },
     "execution_count": 39,
     "metadata": {},
     "output_type": "execute_result"
    }
   ],
   "source": [
    "#row0에 5를 곱해 봅시다\n",
    "type(array_to_latex(5*row0))\n"
   ]
  },
  {
   "cell_type": "code",
   "execution_count": null,
   "id": "d5e767e9-20b6-449e-b054-f2d9d1ee31ec",
   "metadata": {},
   "outputs": [
    {
     "data": {
      "text/latex": [
       "$\\displaystyle 0.2606140651425005$"
      ],
      "text/plain": [
       "<IPython.core.display.Math object>"
      ]
     },
     "metadata": {},
     "output_type": "display_data"
    }
   ],
   "source": [
    "#row0과 col1을 내적해 봅시다.\n",
    "from IPython.display import display, Math\n",
    "\n",
    "display(Math(str(np.matmul(row0,col1).item()))) # your code here"
   ]
  },
  {
   "cell_type": "markdown",
   "id": "a42bbd6a-a1ea-47db-b8c4-35296f297f7d",
   "metadata": {},
   "source": [
    "5. 복소수 행렬을 정의해 봅시다.\n",
    "\n",
    "$$ c1 = \\begin{bmatrix} 1 + 2i & 3+ 6i \\end{bmatrix}, c2 = \\begin{bmatrix} 3 - i \\\\ 2 + i \\end{bmatrix} $$\n",
    "를 정의하고 내적을 계산해 봅시다."
   ]
  },
  {
   "cell_type": "code",
   "execution_count": 52,
   "id": "68c93713-478a-438d-8628-0693e1a5536e",
   "metadata": {},
   "outputs": [
    {
     "data": {
      "text/plain": [
       "(5+20j)"
      ]
     },
     "execution_count": 52,
     "metadata": {},
     "output_type": "execute_result"
    }
   ],
   "source": [
    "c1 = np.array([1+2j, 3+6j])# your code\n",
    "c2 = np.array([[3-1j], [2+1j]])# your code\n",
    "np.matmul(c1, c2).item()"
   ]
  },
  {
   "cell_type": "markdown",
   "id": "024ca331-d29d-483a-8e05-d269bbe2cccd",
   "metadata": {},
   "source": [
    "## 1교시 : 양자 회로의 작성 및 단일 큐비트 게이트, 파울리 게이트들\n",
    "\n",
    "### 1-1 양자 회로를 선언하는 여러가지 방법: \n",
    "\n",
    "가장 먼저 실습의 기본이 되는 양자 회로를 선언하는 법을 먼저 살펴 봅시다."
   ]
  },
  {
   "cell_type": "code",
   "execution_count": 53,
   "id": "4f970fc0-58c1-423c-ba5c-68d78e31c6ea",
   "metadata": {},
   "outputs": [],
   "source": [
    "from qiskit import QuantumCircuit"
   ]
  },
  {
   "cell_type": "code",
   "execution_count": 54,
   "id": "de372675-5fb2-470e-802b-5e746f86eb12",
   "metadata": {},
   "outputs": [],
   "source": [
    "# 2개의 큐비트를 갖는 이름이 qc0인 양자 회로를 선언해 보세요\n",
    "qc0 = QuantumCircuit(2)\n",
    " "
   ]
  },
  {
   "cell_type": "code",
   "execution_count": 55,
   "id": "a6cc9ce7-1959-4484-9f50-7ba0109614ce",
   "metadata": {},
   "outputs": [
    {
     "data": {
      "text/plain": [
       "[<Qubit register=(2, \"q\"), index=0>, <Qubit register=(2, \"q\"), index=1>]"
      ]
     },
     "execution_count": 55,
     "metadata": {},
     "output_type": "execute_result"
    }
   ],
   "source": [
    "#qc0의 .qubits 속성을 확인해 보세요\n",
    "\n",
    "qc0.qubits"
   ]
  },
  {
   "cell_type": "code",
   "execution_count": 65,
   "id": "26581445-14ac-47c8-8757-67a8c7171fa2",
   "metadata": {},
   "outputs": [
    {
     "data": {
      "image/png": "[encoded data removed]",
      "text/plain": [
       "<Figure size 161.878x284.278 with 1 Axes>"
      ]
     },
     "execution_count": 65,
     "metadata": {},
     "output_type": "execute_result"
    }
   ],
   "source": [
    "# 2개의 큐비트와 2개의 고전 비트를 갖는, 이름이 qc1인 양자 회로를 선언해 보세요\n",
    "\n",
    "qc1 = QuantumCircuit(2,2)\n",
    "qc1.draw('mpl')"
   ]
  },
  {
   "cell_type": "code",
   "execution_count": 57,
   "id": "27e54f74-52f5-40c9-bc82-f75aa4b47a19",
   "metadata": {},
   "outputs": [],
   "source": [
    "from qiskit import QuantumRegister, ClassicalRegister"
   ]
  },
  {
   "cell_type": "code",
   "execution_count": 58,
   "id": "841f2dd7-9548-43e1-b0d3-3b37f68c5b5d",
   "metadata": {},
   "outputs": [],
   "source": [
    "# 변수명 qr인 3개의 양자 비트를 1) 회로에 q라는 이름으로 표시되도록 선언해 보세요\n",
    "qr = QuantumRegister(3,name='q')\n"
   ]
  },
  {
   "cell_type": "code",
   "execution_count": 64,
   "id": "240cb087-fa95-497b-8a23-7f23343684e4",
   "metadata": {},
   "outputs": [],
   "source": [
    "# 변수명 cr인 3개의 고전 비트를 1) 회로에 c라는 이름으로 표시되도록 선언해 보세요\n",
    "\n",
    "cr = ClassicalRegister(3,name='c')"
   ]
  },
  {
   "cell_type": "code",
   "execution_count": 62,
   "id": "1c10abd4-5e15-4461-a801-8424105f5d31",
   "metadata": {},
   "outputs": [
    {
     "data": {
      "image/png": "[encoded data removed]",
      "text/plain": [
       "<Figure size 231.387x451.5 with 1 Axes>"
      ]
     },
     "execution_count": 62,
     "metadata": {},
     "output_type": "execute_result"
    }
   ],
   "source": [
    "# 변수명 scratch인 1개의 양자비트를 회로에 표시되는 이름이 scratch가 되도록 선언한 후,  qr과 scratch, cr을 사용하여 이름이 qc인 양자 회로를 선언해 보세요\n",
    "\n",
    "scratch = QuantumRegister(1,name='scratch')\n",
    "\n",
    "qc = QuantumCircuit(qr,scratch,cr)\n",
    "\n",
    "qc.draw('mpl')"
   ]
  },
  {
   "cell_type": "code",
   "execution_count": 70,
   "id": "054e31a1",
   "metadata": {},
   "outputs": [
    {
     "data": {
      "text/plain": [
       "[<Qubit register=(3, \"q\"), index=0>,\n",
       " <Qubit register=(3, \"q\"), index=1>,\n",
       " <Qubit register=(3, \"q\"), index=2>,\n",
       " <Qubit register=(1, \"scratch\"), index=0>]"
      ]
     },
     "execution_count": 70,
     "metadata": {},
     "output_type": "execute_result"
    }
   ],
   "source": [
    "qc.qubits"
   ]
  },
  {
   "cell_type": "markdown",
   "id": "52ac4293-65cf-4206-9e97-75ad76c3b42d",
   "metadata": {},
   "source": [
    "### 1-2 단일 큐비트 게이트로 회로를 만들어 봅시다.\n",
    "\n",
    "각각의 단일 큐비트 게이트의 기능과 특징에 대해서는 코딩 실습 시간에 다루지는 않겠습니다. 혹 각 단일 게이트의 기능이 확실히 이해가 되지 않는다면, [Qiskit Circuit Library](https://quantum.cloud.ibm.com/docs/en/api/qiskit/circuit_library) 페이지를 참고해 주세요."
   ]
  },
  {
   "cell_type": "code",
   "execution_count": 66,
   "id": "5f75572f-e6be-4e79-8486-0d75d1f27289",
   "metadata": {},
   "outputs": [],
   "source": [
    "from qiskit.visualization import * #양자상태를 시각화 하기 위해 qiskit.visualization 불러오기\n",
    "from qiskit.quantum_info import Statevector #Qiskit에서 지원하는 Statevector 클래스 불러오기"
   ]
  },
  {
   "cell_type": "code",
   "execution_count": 67,
   "id": "3a6e7762-52b3-43d2-919d-42ad449ceed6",
   "metadata": {},
   "outputs": [
    {
     "data": {
      "text/plain": [
       "<qiskit.circuit.instructionset.InstructionSet at 0x2bf27205870>"
      ]
     },
     "execution_count": 67,
     "metadata": {},
     "output_type": "execute_result"
    }
   ],
   "source": [
    "# 이름이 qc_x인 1큐비트 양자회로를 선언하고 x 게이트를 적용해봅니다.\n",
    "\n",
    "qc_x = QuantumCircuit(1)\n",
    "qc_x.x(0)"
   ]
  },
  {
   "cell_type": "code",
   "execution_count": 68,
   "id": "992b0462-2ebf-44aa-982a-627f73d78291",
   "metadata": {},
   "outputs": [
    {
     "data": {
      "image/png": "[encoded data removed]",
      "text/plain": [
       "<Figure size 185.453x117.056 with 1 Axes>"
      ]
     },
     "execution_count": 68,
     "metadata": {},
     "output_type": "execute_result"
    }
   ],
   "source": [
    "# qc_x를 'matplotlib'형식으로 그려봅시다. (힌트: matplotlib을 줄이면..?!)\n",
    "\n",
    "qc_x.draw('mpl')"
   ]
  },
  {
   "cell_type": "code",
   "execution_count": null,
   "id": "2983fdba-d023-4612-ad07-e6afbfae3c3d",
   "metadata": {},
   "outputs": [
    {
     "name": "stdout",
     "output_type": "stream",
     "text": [
      "Statevector([0.+0.j, 1.+0.j],\n",
      "            dims=(2,))\n"
     ]
    }
   ],
   "source": [
    "#Statevector 함수를 사용해서 qc_x의 Statevector를 계산해 봅시다.\n",
    "\n",
    "Statevector(qc_x)"
   ]
  },
  {
   "cell_type": "code",
   "execution_count": 75,
   "id": "87bfba8f-2edf-4c97-b5f7-4bc6535c8c6c",
   "metadata": {},
   "outputs": [
    {
     "data": {
      "text/latex": [
       "$$\n",
       "\n",
       "\\begin{bmatrix}\n",
       "0  \\\\\n",
       " 1  \\\\\n",
       " \\end{bmatrix}\n",
       "$$"
      ],
      "text/plain": [
       "<IPython.core.display.Latex object>"
      ]
     },
     "execution_count": 75,
     "metadata": {},
     "output_type": "execute_result"
    }
   ],
   "source": [
    "# array_to_latex()를 사용해서 상태 백터를 보기 좋게 출력해 봅시다.\n",
    "\n",
    "array_to_latex(np.array([Statevector(qc_x)]).reshape(2,1))"
   ]
  },
  {
   "cell_type": "markdown",
   "id": "e98712b2-23c8-4245-bd81-aed459d21ee5",
   "metadata": {},
   "source": [
    "다음 그림과 같은 양자 회로를 작성하고 이를 png 파일의 그림으로 저장해 보세요.\n",
    "\n",
    "<img src=\"img/ex1.png\" width=800/>\n",
    "\n",
    "회로를 그린 그림을 저장하는 법이 헷갈린다면 1 Minute Qiskit의 [How can I save Circuit Drawings to Different File Types?](https://www.youtube.com/watch?v=NcIBMBnV1y0)를 잠시 확인해 보세요. "
   ]
  },
  {
   "cell_type": "code",
   "execution_count": 81,
   "id": "30dbb9b7-23a4-4518-b665-ac3873156f29",
   "metadata": {},
   "outputs": [
    {
     "data": {
      "image/png": "[encoded data removed]",
      "text/plain": [
       "<Figure size 621.941x367.889 with 1 Axes>"
      ]
     },
     "execution_count": 81,
     "metadata": {},
     "output_type": "execute_result"
    }
   ],
   "source": [
    "## your code\n",
    "\n",
    "qc_ex = QuantumCircuit(4)\n",
    "\n",
    "qc_ex.h(0)\n",
    "qc_ex.p(np.pi/2,0)\n",
    "qc_ex.ry(np.pi/8, 0)\n",
    "qc_ex.y(0)\n",
    "\n",
    "qc_ex.rz(np.pi/2,1)\n",
    "qc_ex.t(1)\n",
    "qc_ex.tdg(1)\n",
    "qc_ex.u(np.pi/2, 0, np.pi, 1)\n",
    "\n",
    "qc_ex.id(2)\n",
    "qc_ex.id(2)\n",
    "qc_ex.rx(np.pi/4,2)\n",
    "qc_ex.sx(2)\n",
    "qc_ex.y(2)\n",
    "qc_ex.z(2)\n",
    "\n",
    "qc_ex.s(3)\n",
    "qc_ex.sdg(3)\n",
    "qc_ex.x(3)\n",
    "qc_ex.y(3)\n",
    "\n",
    "qc_ex.draw('mpl')\n"
   ]
  },
  {
   "cell_type": "markdown",
   "id": "aa395541-51f5-4c51-9ad9-d9ae3f260f84",
   "metadata": {},
   "source": [
    "### 1-3 다중 큐비트 게이트로 회로를 만들어 봅시다.\n",
    "\n",
    "앞의 실습과 마찬가지로 이번 실습에서는, 각 다중 큐비트 게이트에 대한 설명은 하지 않겠습니다. 혹시 각 다중 큐비트 게이트의 기능이 확실히 이해가 되지 않는다면, [Qiskit Circuit Library](https://quantum.cloud.ibm.com/docs/en/api/qiskit/circuit_library) 페이지를 참고해 주세요.\n",
    "\n",
    "가장 먼저 CX게이트를 사용한 실습을 해봅시다."
   ]
  },
  {
   "cell_type": "code",
   "execution_count": 123,
   "id": "3286387f-8be0-4e1f-8587-08e507737396",
   "metadata": {},
   "outputs": [
    {
     "data": {
      "image/png": "[encoded data removed]",
      "text/plain": [
       "<Figure size 203.683x200.667 with 1 Axes>"
      ]
     },
     "execution_count": 123,
     "metadata": {},
     "output_type": "execute_result"
    }
   ],
   "source": [
    "# 2개의 큐비트를 갖는 qc라는 이름의 양자 회로를 선언해 봅시다.\n",
    "# 그 후, 0번 큐비트를 컨트롤 큐비트로, 1번 큐비트를 target 큐비트로 지정하는 cx게이트를 추가한 후\n",
    "# matplotlib형태로 회로를 출력해 보세요. \n",
    "\n",
    "qc = QuantumCircuit(2)\n",
    "\n",
    "qc.cx(0,1)\n",
    "\n",
    "qc.draw('mpl')"
   ]
  },
  {
   "cell_type": "markdown",
   "id": "797de154-3ec5-4b34-b36e-df808c7aa526",
   "metadata": {},
   "source": [
    "다음 그림과 같은 양자 회로를 작성해 보세요.\n",
    "\n",
    "<img src=\"img/ex2.png\" width=800/>\n"
   ]
  },
  {
   "cell_type": "code",
   "execution_count": 122,
   "id": "b036199f-b5c8-43d1-be30-c9366274d746",
   "metadata": {},
   "outputs": [
    {
     "data": {
      "image/png": "[encoded data removed]",
      "text/plain": [
       "<Figure size 1458.05x367.889 with 1 Axes>"
      ]
     },
     "execution_count": 122,
     "metadata": {},
     "output_type": "execute_result"
    }
   ],
   "source": [
    "# your code\n",
    "\n",
    "qc_ex2 = QuantumCircuit(4)\n",
    "\n",
    "qc_ex2.mcx([0,1],2)\n",
    "qc_ex2.ch(0,1)\n",
    "qc_ex2.crx(np.pi/2,2,3)\n",
    "qc_ex2.cp(np.pi/4, 0,1)\n",
    "qc_ex2.crz(np.pi/4, 0, 1)\n",
    "qc_ex2.cswap(0,2,3)\n",
    "qc_ex2.csx(0,1)\n",
    "qc_ex2.cx(2,3)\n",
    "qc_ex2.cu(np.pi/2, 0, np.pi, 0, 0,1)\n",
    "qc_ex2.cy(2,3)\n",
    "qc_ex2.cz(1,2)\n",
    "qc_ex2.iswap(0,1)\n",
    "qc_ex2.dcx(2,3)\n",
    "qc_ex2.mcp(np.pi/4, [0,1,2],3)\n",
    "qc_ex2.mcx([0,1,2],3)\n",
    "qc_ex2.swap(2,3)\n",
    "\n",
    "qc_ex2.draw('mpl')\n"
   ]
  },
  {
   "cell_type": "markdown",
   "id": "6f5ab23c-9d63-4038-914c-20b2e75e2d85",
   "metadata": {},
   "source": [
    "### 1-4 베리어와 양자 회로의 특성을 확인해 봅시다.\n",
    "\n",
    "이제 양자 회로에서 barrier의 기능과 양자회로의 각종 특성을 확인하는 명령어들을 확인해 봅시다."
   ]
  },
  {
   "cell_type": "code",
   "execution_count": 125,
   "id": "dca0f9e4-fcde-47e8-ad8b-532212d07ff8",
   "metadata": {},
   "outputs": [
    {
     "data": {
      "image/png": "[encoded data removed]",
      "text/plain": [
       "<Figure size 269.064x117.056 with 1 Axes>"
      ]
     },
     "execution_count": 125,
     "metadata": {},
     "output_type": "execute_result"
    }
   ],
   "source": [
    "# qc1이라는 이름의 큐비트 하나로 구성된 양자회로를 선언하고, 하다마드 게이트를 두번 적용한 후 matplotlib 형태로 출력해 봅시다.\n",
    "\n",
    "\n",
    "qc1 = QuantumCircuit(1)\n",
    "qc1.h(0)\n",
    "qc1.h(0)\n",
    "qc1.draw('mpl')"
   ]
  },
  {
   "cell_type": "code",
   "execution_count": 126,
   "id": "9d17e927-bd5e-4f77-83b4-8ec8d486cc3a",
   "metadata": {},
   "outputs": [
    {
     "data": {
      "image/png": "[encoded data removed]",
      "text/plain": [
       "<Figure size 352.675x117.056 with 1 Axes>"
      ]
     },
     "execution_count": 126,
     "metadata": {},
     "output_type": "execute_result"
    }
   ],
   "source": [
    "# qc2라는 이름의 큐비트 하나로 구성된 양자회로를 선언하고, 하다마드 게이트를 한번 적용한 후 barrier를 삽입하고, 다시 한번 하다마드 게이트를 적용한 후 matplotlib 형태로 출력해 봅시다.\n",
    "\n",
    "qc2 = QuantumCircuit(1)\n",
    "qc2.h(0)\n",
    "qc2.barrier()\n",
    "qc2.h(0)\n",
    "qc2.draw('mpl')\n"
   ]
  },
  {
   "cell_type": "markdown",
   "id": "57c0598d-6e39-486a-ae93-025bf89807e5",
   "metadata": {},
   "source": [
    "이제 아래의 두셀을 실행해 보세요."
   ]
  },
  {
   "cell_type": "code",
   "execution_count": 127,
   "id": "bec2ddb5-70ef-4058-82c2-5c4dcd68c3ff",
   "metadata": {},
   "outputs": [
    {
     "data": {
      "image/png": "[encoded data removed]",
      "text/plain": [
       "<Figure size 143.647x117.056 with 1 Axes>"
      ]
     },
     "execution_count": 127,
     "metadata": {},
     "output_type": "execute_result"
    }
   ],
   "source": [
    "from qiskit.transpiler import generate_preset_pass_manager\n",
    "from qiskit_aer import AerSimulator\n",
    "\n",
    "backend = AerSimulator()\n",
    "pm = generate_preset_pass_manager(backend=backend)\n",
    "tp_qc1 = pm.run(qc1)\n",
    "\n",
    "tp_qc1.draw('mpl')"
   ]
  },
  {
   "cell_type": "code",
   "execution_count": 128,
   "id": "b0cf0c07-47ef-482e-a7b3-5f0b68154df7",
   "metadata": {},
   "outputs": [
    {
     "data": {
      "image/png": "[encoded data removed]",
      "text/plain": [
       "<Figure size 352.675x117.056 with 1 Axes>"
      ]
     },
     "execution_count": 128,
     "metadata": {},
     "output_type": "execute_result"
    }
   ],
   "source": [
    "tp_qc2 = pm.run(qc2)\n",
    "\n",
    "tp_qc2.draw('mpl')"
   ]
  },
  {
   "cell_type": "markdown",
   "id": "8b64f16f-9e15-49b5-87e3-1decff375f6f",
   "metadata": {},
   "source": [
    "위에서 보셨듯이, 배리어는 양자회로가 transpile될때 배리어를 기준으로 함께 tranpile되지 않게 해줍니다. 이 barrier를 사용해 다음의 예제 회로를 작성해 보세요. 양자 회로의 이름은 여러분이 원하는대로 지어 보세요.\n",
    "\n",
    "<img src=\"img/ex3.png\" width=800/>\n"
   ]
  },
  {
   "cell_type": "code",
   "execution_count": 133,
   "id": "fecd6567-8988-4147-a0df-c046d22deb90",
   "metadata": {},
   "outputs": [
    {
     "data": {
      "image/png": "[encoded data removed]",
      "text/plain": [
       "<Figure size 538.128x200.667 with 1 Axes>"
      ]
     },
     "execution_count": 133,
     "metadata": {},
     "output_type": "execute_result"
    }
   ],
   "source": [
    "# your code\n",
    "\n",
    "qc_ex3 = QuantumCircuit(2)\n",
    "\n",
    "qc_ex3.h([0,1])\n",
    "qc_ex3.barrier()\n",
    "qc_ex3.x([0,0])\n",
    "qc_ex3.s(1)\n",
    "qc_ex3.barrier(1)\n",
    "qc_ex3.s(1)\n",
    "\n",
    "qc_ex3.draw('mpl')"
   ]
  },
  {
   "cell_type": "markdown",
   "id": "40c3c3c6-fe09-4d68-b856-bede802c5adc",
   "metadata": {},
   "source": [
    ".depth()함수를 사용해 이 회로의 depth를 계산해 봅시다."
   ]
  },
  {
   "cell_type": "code",
   "execution_count": 134,
   "id": "258a944a-8444-446d-97c1-170a555eeca1",
   "metadata": {},
   "outputs": [
    {
     "data": {
      "text/plain": [
       "3"
      ]
     },
     "execution_count": 134,
     "metadata": {},
     "output_type": "execute_result"
    }
   ],
   "source": [
    "qc_ex3.depth()"
   ]
  },
  {
   "cell_type": "markdown",
   "id": "9f506e1d-9783-4888-a9bf-eca757ab1204",
   "metadata": {},
   "source": [
    ".size() 함수를 사용해 이 회로의 크기를 계산해 봅시다."
   ]
  },
  {
   "cell_type": "code",
   "execution_count": 135,
   "id": "0b581333-fb5c-4eab-83e1-b6b451637e63",
   "metadata": {},
   "outputs": [
    {
     "data": {
      "text/plain": [
       "6"
      ]
     },
     "execution_count": 135,
     "metadata": {},
     "output_type": "execute_result"
    }
   ],
   "source": [
    "qc_ex3.size()"
   ]
  },
  {
   "cell_type": "markdown",
   "id": "19f0a543-17fd-4738-9e03-4c27968631c1",
   "metadata": {},
   "source": [
    ".width()함수를 사용해 이 회로의 넓이를 계산해 봅시다."
   ]
  },
  {
   "cell_type": "code",
   "execution_count": 136,
   "id": "411096d0-7b1d-416e-837c-9601e947f877",
   "metadata": {},
   "outputs": [
    {
     "data": {
      "text/plain": [
       "2"
      ]
     },
     "execution_count": 136,
     "metadata": {},
     "output_type": "execute_result"
    }
   ],
   "source": [
    "qc_ex3.width()"
   ]
  },
  {
   "cell_type": "markdown",
   "id": "afda8837-a8ae-466c-96d2-06eb9e9543c2",
   "metadata": {},
   "source": [
    "다음과 같은 양자회로를 작성해 보세요.\n",
    "\n",
    "<img src=\"img/ex4.png\" width=800/>\n",
    "\n",
    "이 회로의 depth, size, width를 모두 확인해 봅시다."
   ]
  },
  {
   "cell_type": "code",
   "execution_count": 138,
   "id": "62d92c8b-c00c-4d84-b291-1b3a626cf246",
   "metadata": {},
   "outputs": [
    {
     "name": "stdout",
     "output_type": "stream",
     "text": [
      "5   11   6\n"
     ]
    },
    {
     "data": {
      "image/png": "[encoded data removed]",
      "text/plain": [
       "<Figure size 914.831x367.889 with 1 Axes>"
      ]
     },
     "execution_count": 138,
     "metadata": {},
     "output_type": "execute_result"
    }
   ],
   "source": [
    "#your code\n",
    "qc_ex4 = QuantumCircuit(3)\n",
    "\n",
    "qc_ex4.h([0,1])\n",
    "qc_ex4.x(2)\n",
    "qc_ex4.mcx([0,1],2)\n",
    "qc_ex4.ry(np.pi,0)\n",
    "qc_ex4.ch(1,2)\n",
    "qc_ex4.cx(1,0)\n",
    "qc_ex4.tdg(2)\n",
    "qc_ex4.barrier()\n",
    "qc_ex4.measure_all()\n",
    "\n",
    "\n",
    "depth = qc_ex4.depth()\n",
    "size = qc_ex4.size()\n",
    "width = qc_ex4.width()\n",
    "\n",
    "print(depth, \" \", size, \" \", width)\n",
    "\n",
    "qc_ex4.draw('mpl')"
   ]
  },
  {
   "cell_type": "markdown",
   "id": "893b828c-1d9a-42f0-bd27-6f89e371f505",
   "metadata": {},
   "source": [
    ".clbits 를 사용해 이 회로의 고전 비트 정보들을 확인해 봅시다."
   ]
  },
  {
   "cell_type": "code",
   "execution_count": 139,
   "id": "65679e19-8ab4-4b37-ac9f-b9dafd152a60",
   "metadata": {},
   "outputs": [
    {
     "data": {
      "text/plain": [
       "[<Clbit register=(3, \"meas\"), index=0>,\n",
       " <Clbit register=(3, \"meas\"), index=1>,\n",
       " <Clbit register=(3, \"meas\"), index=2>]"
      ]
     },
     "execution_count": 139,
     "metadata": {},
     "output_type": "execute_result"
    }
   ],
   "source": [
    "qc_ex4.clbits"
   ]
  },
  {
   "cell_type": "markdown",
   "id": "37c8dad5-035c-449d-81ea-fc4e9cfae5aa",
   "metadata": {},
   "source": [
    ".data 를 사용해 이 회로의 오퍼레이터들을 확인해 봅시다."
   ]
  },
  {
   "cell_type": "code",
   "execution_count": 140,
   "id": "e6e72656-544c-45ab-bfb0-7abc65ff51ad",
   "metadata": {},
   "outputs": [
    {
     "data": {
      "text/plain": [
       "[CircuitInstruction(operation=Instruction(name='h', num_qubits=1, num_clbits=0, params=[]), qubits=(<Qubit register=(3, \"q\"), index=0>,), clbits=()), CircuitInstruction(operation=Instruction(name='h', num_qubits=1, num_clbits=0, params=[]), qubits=(<Qubit register=(3, \"q\"), index=1>,), clbits=()), CircuitInstruction(operation=Instruction(name='x', num_qubits=1, num_clbits=0, params=[]), qubits=(<Qubit register=(3, \"q\"), index=2>,), clbits=()), CircuitInstruction(operation=Instruction(name='ccx', num_qubits=3, num_clbits=0, params=[]), qubits=(<Qubit register=(3, \"q\"), index=0>, <Qubit register=(3, \"q\"), index=1>, <Qubit register=(3, \"q\"), index=2>), clbits=()), CircuitInstruction(operation=Instruction(name='ry', num_qubits=1, num_clbits=0, params=[3.141592653589793]), qubits=(<Qubit register=(3, \"q\"), index=0>,), clbits=()), CircuitInstruction(operation=Instruction(name='ch', num_qubits=2, num_clbits=0, params=[]), qubits=(<Qubit register=(3, \"q\"), index=1>, <Qubit register=(3, \"q\"), index=2>), clbits=()), CircuitInstruction(operation=Instruction(name='cx', num_qubits=2, num_clbits=0, params=[]), qubits=(<Qubit register=(3, \"q\"), index=1>, <Qubit register=(3, \"q\"), index=0>), clbits=()), CircuitInstruction(operation=Instruction(name='tdg', num_qubits=1, num_clbits=0, params=[]), qubits=(<Qubit register=(3, \"q\"), index=2>,), clbits=()), CircuitInstruction(operation=Instruction(name='barrier', num_qubits=3, num_clbits=0, params=[]), qubits=(<Qubit register=(3, \"q\"), index=0>, <Qubit register=(3, \"q\"), index=1>, <Qubit register=(3, \"q\"), index=2>), clbits=()), CircuitInstruction(operation=Instruction(name='barrier', num_qubits=3, num_clbits=0, params=[]), qubits=(<Qubit register=(3, \"q\"), index=0>, <Qubit register=(3, \"q\"), index=1>, <Qubit register=(3, \"q\"), index=2>), clbits=()), CircuitInstruction(operation=Instruction(name='measure', num_qubits=1, num_clbits=1, params=[]), qubits=(<Qubit register=(3, \"q\"), index=0>,), clbits=(<Clbit register=(3, \"meas\"), index=0>,)), CircuitInstruction(operation=Instruction(name='measure', num_qubits=1, num_clbits=1, params=[]), qubits=(<Qubit register=(3, \"q\"), index=1>,), clbits=(<Clbit register=(3, \"meas\"), index=1>,)), CircuitInstruction(operation=Instruction(name='measure', num_qubits=1, num_clbits=1, params=[]), qubits=(<Qubit register=(3, \"q\"), index=2>,), clbits=(<Clbit register=(3, \"meas\"), index=2>,))]"
      ]
     },
     "execution_count": 140,
     "metadata": {},
     "output_type": "execute_result"
    }
   ],
   "source": [
    "qc_ex4.data"
   ]
  },
  {
   "cell_type": "markdown",
   "id": "44b183e9-dc67-4eb2-977e-fd181fcd5621",
   "metadata": {},
   "source": [
    ".global_phase 를 사용해 이 회로가 만들어 내는 전역 위상을 확인해 봅시다."
   ]
  },
  {
   "cell_type": "code",
   "execution_count": 141,
   "id": "1f18c723-1e56-4ee9-855d-44342c99f05e",
   "metadata": {},
   "outputs": [
    {
     "data": {
      "text/plain": [
       "0.0"
      ]
     },
     "execution_count": 141,
     "metadata": {},
     "output_type": "execute_result"
    }
   ],
   "source": [
    "qc_ex4.global_phase"
   ]
  },
  {
   "cell_type": "markdown",
   "id": "969c0ad1-ca8b-4268-8f01-e79fce86b2f2",
   "metadata": {},
   "source": [
    ".num_clbits를 사용해 이 회로의 고전 비트의 개수를 확인해 봅시다."
   ]
  },
  {
   "cell_type": "code",
   "execution_count": 142,
   "id": "afdbb4f9-7a02-468e-ac2a-4d8e8d706c71",
   "metadata": {},
   "outputs": [
    {
     "data": {
      "text/plain": [
       "3"
      ]
     },
     "execution_count": 142,
     "metadata": {},
     "output_type": "execute_result"
    }
   ],
   "source": [
    "qc_ex4.num_clbits"
   ]
  },
  {
   "cell_type": "markdown",
   "id": "c68cfac9-d0cb-4511-8898-264b0da60d33",
   "metadata": {},
   "source": [
    ".num_qubits를 사용해 이 회로의 큐비트의 개수를 확인해 봅시다."
   ]
  },
  {
   "cell_type": "code",
   "execution_count": 143,
   "id": "97017772-1a71-4310-9643-fd86a0c72d53",
   "metadata": {},
   "outputs": [
    {
     "data": {
      "text/plain": [
       "3"
      ]
     },
     "execution_count": 143,
     "metadata": {},
     "output_type": "execute_result"
    }
   ],
   "source": [
    "qc_ex4.num_qubits"
   ]
  },
  {
   "cell_type": "markdown",
   "id": "c3990dde-1077-425f-aa8f-111415e5e56b",
   "metadata": {},
   "source": [
    ".qubits를 사용해 이회로의 큐비트에 대한 정보를 확인해 봅시다."
   ]
  },
  {
   "cell_type": "markdown",
   "id": "84a209ba-f9ab-4fd7-8be4-c67ae3197f21",
   "metadata": {},
   "source": [
    "10 분 휴식한 후! 양자 회로 작성에 대한 나머지 부분과 양자회로의 측정, OpenQasm을 실습해 봅시다."
   ]
  },
  {
   "cell_type": "code",
   "execution_count": 144,
   "id": "790875d9-5ad1-4946-9e8c-d34a4b1afa63",
   "metadata": {},
   "outputs": [
    {
     "data": {
      "text/plain": [
       "[<Qubit register=(3, \"q\"), index=0>,\n",
       " <Qubit register=(3, \"q\"), index=1>,\n",
       " <Qubit register=(3, \"q\"), index=2>]"
      ]
     },
     "execution_count": 144,
     "metadata": {},
     "output_type": "execute_result"
    }
   ],
   "source": [
    "qc_ex4.qubits"
   ]
  },
  {
   "cell_type": "code",
   "execution_count": null,
   "id": "66d2bfd8",
   "metadata": {},
   "outputs": [],
   "source": []
  }
 ],
 "metadata": {
  "kernelspec": {
   "display_name": "cwq",
   "language": "python",
   "name": "python3"
  },
  "language_info": {
   "codemirror_mode": {
    "name": "ipython",
    "version": 3
   },
   "file_extension": ".py",
   "mimetype": "text/x-python",
   "name": "python",
   "nbconvert_exporter": "python",
   "pygments_lexer": "ipython3",
   "version": "3.13.5"
  }
 },
 "nbformat": 4,
 "nbformat_minor": 5
}
